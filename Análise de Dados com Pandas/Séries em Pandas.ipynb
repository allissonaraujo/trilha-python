{
 "cells": [
  {
   "cell_type": "markdown",
   "id": "156e92f4",
   "metadata": {},
   "source": [
    "## Series - Semelhante a matrizes do NumPy porém com rótulos nos eixos"
   ]
  },
  {
   "cell_type": "code",
   "execution_count": 1,
   "id": "47b36e9b",
   "metadata": {},
   "outputs": [],
   "source": [
    "import numpy as np\n",
    "import pandas as pd"
   ]
  },
  {
   "cell_type": "markdown",
   "id": "f832f178",
   "metadata": {},
   "source": [
    "#### Criando series"
   ]
  },
  {
   "cell_type": "code",
   "execution_count": 3,
   "id": "d2d9436c",
   "metadata": {},
   "outputs": [],
   "source": [
    "lista1 = [\"a\",\"b\",\"c\"]\n",
    "lista2 = [1,2,3]\n",
    "arr = np.array([10,20,30])\n",
    "d = {\"a\":100, \"b\":200, \"c\":300}"
   ]
  },
  {
   "cell_type": "code",
   "execution_count": 5,
   "id": "6d2f083e",
   "metadata": {},
   "outputs": [
    {
     "data": {
      "text/plain": [
       "a    1\n",
       "b    2\n",
       "c    3\n",
       "dtype: int64"
      ]
     },
     "execution_count": 5,
     "metadata": {},
     "output_type": "execute_result"
    }
   ],
   "source": [
    "pd.Series(data = lista2, index = lista1)"
   ]
  },
  {
   "cell_type": "code",
   "execution_count": 7,
   "id": "9d517398",
   "metadata": {},
   "outputs": [
    {
     "data": {
      "text/plain": [
       "a    1\n",
       "b    2\n",
       "c    3\n",
       "dtype: int64"
      ]
     },
     "execution_count": 7,
     "metadata": {},
     "output_type": "execute_result"
    }
   ],
   "source": [
    "pd.Series(lista2, lista1)"
   ]
  },
  {
   "cell_type": "code",
   "execution_count": 8,
   "id": "987f066e",
   "metadata": {},
   "outputs": [
    {
     "data": {
      "text/plain": [
       "0    10\n",
       "1    20\n",
       "2    30\n",
       "dtype: int32"
      ]
     },
     "execution_count": 8,
     "metadata": {},
     "output_type": "execute_result"
    }
   ],
   "source": [
    "pd.Series(arr)"
   ]
  },
  {
   "cell_type": "code",
   "execution_count": 9,
   "id": "c685346b",
   "metadata": {},
   "outputs": [
    {
     "data": {
      "text/plain": [
       "a    10\n",
       "b    20\n",
       "c    30\n",
       "dtype: int32"
      ]
     },
     "execution_count": 9,
     "metadata": {},
     "output_type": "execute_result"
    }
   ],
   "source": [
    "pd.Series(arr, lista1)"
   ]
  },
  {
   "cell_type": "code",
   "execution_count": 10,
   "id": "49011d9b",
   "metadata": {},
   "outputs": [
    {
     "data": {
      "text/plain": [
       "a    100\n",
       "b    200\n",
       "c    300\n",
       "dtype: int64"
      ]
     },
     "execution_count": 10,
     "metadata": {},
     "output_type": "execute_result"
    }
   ],
   "source": [
    "pd.Series(d)"
   ]
  },
  {
   "cell_type": "markdown",
   "id": "663b4914",
   "metadata": {},
   "source": [
    "### Utilizando os índices"
   ]
  },
  {
   "cell_type": "code",
   "execution_count": 27,
   "id": "476dd3c7",
   "metadata": {},
   "outputs": [],
   "source": [
    "serie1 = pd.Series([1,2,3,4], index = [\"Joao\", \"Maria\", \"Pedro\", \"Carlos\"])"
   ]
  },
  {
   "cell_type": "code",
   "execution_count": 13,
   "id": "f46342c8",
   "metadata": {},
   "outputs": [
    {
     "data": {
      "text/plain": [
       "joao      1\n",
       "Maria     2\n",
       "Pedro     3\n",
       "Carlos    4\n",
       "dtype: int64"
      ]
     },
     "execution_count": 13,
     "metadata": {},
     "output_type": "execute_result"
    }
   ],
   "source": [
    "serie1"
   ]
  },
  {
   "cell_type": "code",
   "execution_count": 28,
   "id": "118e330f",
   "metadata": {},
   "outputs": [],
   "source": [
    "serie2 = pd.Series([1,2,5,6], index = [\"Pedro\", \"Roberta\", \"Joao\", \"Carlos\"])"
   ]
  },
  {
   "cell_type": "code",
   "execution_count": 15,
   "id": "94d71c16",
   "metadata": {},
   "outputs": [
    {
     "data": {
      "text/plain": [
       "Pedro      1\n",
       "Roberta    2\n",
       "Joao       5\n",
       "Carlos     6\n",
       "dtype: int64"
      ]
     },
     "execution_count": 15,
     "metadata": {},
     "output_type": "execute_result"
    }
   ],
   "source": [
    "serie2"
   ]
  },
  {
   "cell_type": "code",
   "execution_count": 20,
   "id": "07d831fa",
   "metadata": {},
   "outputs": [
    {
     "data": {
      "text/plain": [
       "joao      1\n",
       "Maria     2\n",
       "Pedro     3\n",
       "Carlos    4\n",
       "dtype: int64"
      ]
     },
     "execution_count": 20,
     "metadata": {},
     "output_type": "execute_result"
    }
   ],
   "source": [
    "serie1"
   ]
  },
  {
   "cell_type": "code",
   "execution_count": 22,
   "id": "6df8df1f",
   "metadata": {},
   "outputs": [
    {
     "data": {
      "text/plain": [
       "1"
      ]
     },
     "execution_count": 22,
     "metadata": {},
     "output_type": "execute_result"
    }
   ],
   "source": [
    "serie1['joao']"
   ]
  },
  {
   "cell_type": "code",
   "execution_count": 23,
   "id": "3801dc3c",
   "metadata": {},
   "outputs": [
    {
     "data": {
      "text/plain": [
       "2"
      ]
     },
     "execution_count": 23,
     "metadata": {},
     "output_type": "execute_result"
    }
   ],
   "source": [
    "serie2['Roberta']"
   ]
  },
  {
   "cell_type": "code",
   "execution_count": 29,
   "id": "64cb11b1",
   "metadata": {},
   "outputs": [
    {
     "data": {
      "text/plain": [
       "Carlos     10.0\n",
       "Joao        6.0\n",
       "Maria       NaN\n",
       "Pedro       4.0\n",
       "Roberta     NaN\n",
       "dtype: float64"
      ]
     },
     "execution_count": 29,
     "metadata": {},
     "output_type": "execute_result"
    }
   ],
   "source": [
    "serie1 + serie2"
   ]
  },
  {
   "cell_type": "code",
   "execution_count": null,
   "id": "75de9f56",
   "metadata": {},
   "outputs": [],
   "source": []
  }
 ],
 "metadata": {
  "kernelspec": {
   "display_name": "Python 3 (ipykernel)",
   "language": "python",
   "name": "python3"
  },
  "language_info": {
   "codemirror_mode": {
    "name": "ipython",
    "version": 3
   },
   "file_extension": ".py",
   "mimetype": "text/x-python",
   "name": "python",
   "nbconvert_exporter": "python",
   "pygments_lexer": "ipython3",
   "version": "3.9.13"
  }
 },
 "nbformat": 4,
 "nbformat_minor": 5
}
