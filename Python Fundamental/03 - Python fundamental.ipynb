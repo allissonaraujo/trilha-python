{
 "cells": [
  {
   "cell_type": "markdown",
   "id": "4cc5d15c",
   "metadata": {},
   "source": [
    "## For"
   ]
  },
  {
   "cell_type": "code",
   "execution_count": 1,
   "id": "bdd18677",
   "metadata": {},
   "outputs": [],
   "source": [
    "lista = [1,2,3,4,5,6,7,8,9]"
   ]
  },
  {
   "cell_type": "code",
   "execution_count": 2,
   "id": "f83f6250",
   "metadata": {},
   "outputs": [
    {
     "data": {
      "text/plain": [
       "[1, 2, 3, 4, 5, 6, 7, 8, 9]"
      ]
     },
     "execution_count": 2,
     "metadata": {},
     "output_type": "execute_result"
    }
   ],
   "source": [
    "lista\n"
   ]
  },
  {
   "cell_type": "code",
   "execution_count": 3,
   "id": "b94534e7",
   "metadata": {},
   "outputs": [
    {
     "name": "stdout",
     "output_type": "stream",
     "text": [
      "1\n",
      "2\n",
      "3\n",
      "4\n",
      "5\n",
      "6\n",
      "7\n",
      "8\n",
      "9\n"
     ]
    }
   ],
   "source": [
    "for item in lista:\n",
    "    print(item)"
   ]
  },
  {
   "cell_type": "code",
   "execution_count": 4,
   "id": "e5b3477d",
   "metadata": {},
   "outputs": [
    {
     "name": "stdout",
     "output_type": "stream",
     "text": [
      "Item:  1\n",
      "Item:  2\n",
      "Item:  3\n",
      "Item:  4\n",
      "Item:  5\n",
      "Item:  6\n",
      "Item:  7\n",
      "Item:  8\n",
      "Item:  9\n"
     ]
    }
   ],
   "source": [
    "for item in lista:\n",
    "    print(\"Item: \", item)"
   ]
  },
  {
   "cell_type": "code",
   "execution_count": 5,
   "id": "458bf97c",
   "metadata": {},
   "outputs": [
    {
     "data": {
      "text/plain": [
       "range(0, 50)"
      ]
     },
     "execution_count": 5,
     "metadata": {},
     "output_type": "execute_result"
    }
   ],
   "source": [
    "range(0,50)"
   ]
  },
  {
   "cell_type": "code",
   "execution_count": 6,
   "id": "68a7287d",
   "metadata": {},
   "outputs": [
    {
     "data": {
      "text/plain": [
       "range"
      ]
     },
     "execution_count": 6,
     "metadata": {},
     "output_type": "execute_result"
    }
   ],
   "source": [
    "type(range(0,50))"
   ]
  },
  {
   "cell_type": "code",
   "execution_count": 11,
   "id": "c6db198b",
   "metadata": {},
   "outputs": [
    {
     "name": "stdout",
     "output_type": "stream",
     "text": [
      "soma:  50\n"
     ]
    }
   ],
   "source": [
    "soma = 0 \n",
    "for i in range(0,50):\n",
    "    soma += 1\n",
    "print(\"soma: \", soma)"
   ]
  },
  {
   "cell_type": "code",
   "execution_count": 12,
   "id": "a7c1bd2b",
   "metadata": {},
   "outputs": [
    {
     "data": {
      "text/plain": [
       "[1, 2, 3, 4, 5, 6, 7, 8, 9]"
      ]
     },
     "execution_count": 12,
     "metadata": {},
     "output_type": "execute_result"
    }
   ],
   "source": [
    "lista"
   ]
  },
  {
   "cell_type": "code",
   "execution_count": 14,
   "id": "bf7c2946",
   "metadata": {},
   "outputs": [],
   "source": [
    "lista2 = []"
   ]
  },
  {
   "cell_type": "code",
   "execution_count": 15,
   "id": "dbbadc41",
   "metadata": {},
   "outputs": [
    {
     "data": {
      "text/plain": [
       "[1, 4, 9, 16, 25, 36, 49, 64, 81]"
      ]
     },
     "execution_count": 15,
     "metadata": {},
     "output_type": "execute_result"
    }
   ],
   "source": [
    "for item in lista:\n",
    "    lista2.append(item**2)\n",
    "lista2"
   ]
  },
  {
   "cell_type": "markdown",
   "id": "72aee619",
   "metadata": {},
   "source": [
    "## While"
   ]
  },
  {
   "cell_type": "code",
   "execution_count": 16,
   "id": "b1499aed",
   "metadata": {},
   "outputs": [],
   "source": [
    "i = 1"
   ]
  },
  {
   "cell_type": "code",
   "execution_count": 18,
   "id": "cf7759ad",
   "metadata": {},
   "outputs": [
    {
     "name": "stdout",
     "output_type": "stream",
     "text": [
      "i é igual:  1\n",
      "i é igual:  2\n",
      "i é igual:  3\n",
      "i é igual:  4\n"
     ]
    }
   ],
   "source": [
    "while i < 5:\n",
    "    print (\"i é igual: \", i)\n",
    "    i = i + 1"
   ]
  },
  {
   "cell_type": "markdown",
   "id": "9b494b8b",
   "metadata": {},
   "source": [
    "## Lista comprehensions"
   ]
  },
  {
   "cell_type": "code",
   "execution_count": 20,
   "id": "23571986",
   "metadata": {},
   "outputs": [
    {
     "data": {
      "text/plain": [
       "[1, 4, 9, 16, 25, 36, 49, 64, 81]"
      ]
     },
     "execution_count": 20,
     "metadata": {},
     "output_type": "execute_result"
    }
   ],
   "source": [
    "[item ** 2 for item in lista]"
   ]
  },
  {
   "cell_type": "markdown",
   "id": "c6ccc5d2",
   "metadata": {},
   "source": [
    "## Funções def"
   ]
  },
  {
   "cell_type": "code",
   "execution_count": 21,
   "id": "e2bf49c0",
   "metadata": {},
   "outputs": [],
   "source": [
    "def nome_funcao(parametros):\n",
    "    print(parametros)"
   ]
  },
  {
   "cell_type": "code",
   "execution_count": 22,
   "id": "4c96333d",
   "metadata": {},
   "outputs": [
    {
     "data": {
      "text/plain": [
       "<function __main__.nome_funcao(parametros)>"
      ]
     },
     "execution_count": 22,
     "metadata": {},
     "output_type": "execute_result"
    }
   ],
   "source": [
    "nome_funcao"
   ]
  },
  {
   "cell_type": "code",
   "execution_count": 23,
   "id": "f843ab48",
   "metadata": {},
   "outputs": [
    {
     "name": "stdout",
     "output_type": "stream",
     "text": [
      "Hello World\n"
     ]
    }
   ],
   "source": [
    "nome_funcao(\"Hello World\")"
   ]
  },
  {
   "cell_type": "code",
   "execution_count": 24,
   "id": "e1e2d802",
   "metadata": {},
   "outputs": [],
   "source": [
    "def nome_funcao(parametros):\n",
    "    x = parametros * parametros\n",
    "    return x"
   ]
  },
  {
   "cell_type": "code",
   "execution_count": 25,
   "id": "32c40a88",
   "metadata": {},
   "outputs": [
    {
     "data": {
      "text/plain": [
       "4"
      ]
     },
     "execution_count": 25,
     "metadata": {},
     "output_type": "execute_result"
    }
   ],
   "source": [
    "nome_funcao(2)"
   ]
  },
  {
   "cell_type": "code",
   "execution_count": 26,
   "id": "5e62f9f4",
   "metadata": {},
   "outputs": [
    {
     "data": {
      "text/plain": [
       "100"
      ]
     },
     "execution_count": 26,
     "metadata": {},
     "output_type": "execute_result"
    }
   ],
   "source": [
    "nome_funcao(10)"
   ]
  },
  {
   "cell_type": "code",
   "execution_count": 27,
   "id": "52e47a36",
   "metadata": {},
   "outputs": [
    {
     "name": "stdout",
     "output_type": "stream",
     "text": [
      "625\n"
     ]
    }
   ],
   "source": [
    "print(nome_funcao(25))"
   ]
  }
 ],
 "metadata": {
  "kernelspec": {
   "display_name": "Python 3 (ipykernel)",
   "language": "python",
   "name": "python3"
  },
  "language_info": {
   "codemirror_mode": {
    "name": "ipython",
    "version": 3
   },
   "file_extension": ".py",
   "mimetype": "text/x-python",
   "name": "python",
   "nbconvert_exporter": "python",
   "pygments_lexer": "ipython3",
   "version": "3.9.13"
  }
 },
 "nbformat": 4,
 "nbformat_minor": 5
}
