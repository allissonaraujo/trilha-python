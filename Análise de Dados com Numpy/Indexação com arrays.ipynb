{
 "cells": [
  {
   "cell_type": "code",
   "execution_count": 1,
   "id": "f32f6209",
   "metadata": {},
   "outputs": [],
   "source": [
    "import numpy as np"
   ]
  },
  {
   "cell_type": "code",
   "execution_count": 2,
   "id": "c20be792",
   "metadata": {},
   "outputs": [],
   "source": [
    "arr = np.arange(0,20)"
   ]
  },
  {
   "cell_type": "code",
   "execution_count": 3,
   "id": "bfae2bc2",
   "metadata": {},
   "outputs": [
    {
     "data": {
      "text/plain": [
       "array([ 0,  1,  2,  3,  4,  5,  6,  7,  8,  9, 10, 11, 12, 13, 14, 15, 16,\n",
       "       17, 18, 19])"
      ]
     },
     "execution_count": 3,
     "metadata": {},
     "output_type": "execute_result"
    }
   ],
   "source": [
    "arr"
   ]
  },
  {
   "cell_type": "code",
   "execution_count": 4,
   "id": "918aaa57",
   "metadata": {},
   "outputs": [
    {
     "data": {
      "text/plain": [
       "5"
      ]
     },
     "execution_count": 4,
     "metadata": {},
     "output_type": "execute_result"
    }
   ],
   "source": [
    "arr[5]"
   ]
  },
  {
   "cell_type": "code",
   "execution_count": 5,
   "id": "d55622c8",
   "metadata": {},
   "outputs": [
    {
     "data": {
      "text/plain": [
       "array([4, 5])"
      ]
     },
     "execution_count": 5,
     "metadata": {},
     "output_type": "execute_result"
    }
   ],
   "source": [
    "arr[4:6]"
   ]
  },
  {
   "cell_type": "code",
   "execution_count": 6,
   "id": "d44216b0",
   "metadata": {},
   "outputs": [],
   "source": [
    "arr[2:6] = 20"
   ]
  },
  {
   "cell_type": "code",
   "execution_count": 7,
   "id": "7c1c5135",
   "metadata": {},
   "outputs": [
    {
     "data": {
      "text/plain": [
       "array([ 0,  1, 20, 20, 20, 20,  6,  7,  8,  9, 10, 11, 12, 13, 14, 15, 16,\n",
       "       17, 18, 19])"
      ]
     },
     "execution_count": 7,
     "metadata": {},
     "output_type": "execute_result"
    }
   ],
   "source": [
    "arr"
   ]
  },
  {
   "cell_type": "code",
   "execution_count": 8,
   "id": "687266d0",
   "metadata": {},
   "outputs": [],
   "source": [
    "arr = np.arange(0,10)"
   ]
  },
  {
   "cell_type": "code",
   "execution_count": 9,
   "id": "e2b471ba",
   "metadata": {},
   "outputs": [
    {
     "data": {
      "text/plain": [
       "array([0, 1, 2, 3, 4, 5, 6, 7, 8, 9])"
      ]
     },
     "execution_count": 9,
     "metadata": {},
     "output_type": "execute_result"
    }
   ],
   "source": [
    "arr"
   ]
  },
  {
   "cell_type": "code",
   "execution_count": 10,
   "id": "ae927ae3",
   "metadata": {},
   "outputs": [],
   "source": [
    "slice = arr[2:8]"
   ]
  },
  {
   "cell_type": "code",
   "execution_count": 11,
   "id": "56bc747f",
   "metadata": {},
   "outputs": [
    {
     "data": {
      "text/plain": [
       "array([2, 3, 4, 5, 6, 7])"
      ]
     },
     "execution_count": 11,
     "metadata": {},
     "output_type": "execute_result"
    }
   ],
   "source": [
    "slice"
   ]
  },
  {
   "cell_type": "code",
   "execution_count": 12,
   "id": "3719ad50",
   "metadata": {},
   "outputs": [],
   "source": [
    "slice[:] = 150"
   ]
  },
  {
   "cell_type": "code",
   "execution_count": 13,
   "id": "3a906372",
   "metadata": {},
   "outputs": [
    {
     "data": {
      "text/plain": [
       "array([150, 150, 150, 150, 150, 150])"
      ]
     },
     "execution_count": 13,
     "metadata": {},
     "output_type": "execute_result"
    }
   ],
   "source": [
    "slice"
   ]
  },
  {
   "cell_type": "code",
   "execution_count": 14,
   "id": "581971ae",
   "metadata": {},
   "outputs": [
    {
     "data": {
      "text/plain": [
       "array([  0,   1, 150, 150, 150, 150, 150, 150,   8,   9])"
      ]
     },
     "execution_count": 14,
     "metadata": {},
     "output_type": "execute_result"
    }
   ],
   "source": [
    "arr"
   ]
  },
  {
   "cell_type": "code",
   "execution_count": 16,
   "id": "8000eb87",
   "metadata": {},
   "outputs": [],
   "source": [
    "slice_copy = arr.copy()"
   ]
  },
  {
   "cell_type": "code",
   "execution_count": 17,
   "id": "31f6dca9",
   "metadata": {},
   "outputs": [
    {
     "data": {
      "text/plain": [
       "array([  0,   1, 150, 150, 150, 150, 150, 150,   8,   9])"
      ]
     },
     "execution_count": 17,
     "metadata": {},
     "output_type": "execute_result"
    }
   ],
   "source": [
    "slice_copy"
   ]
  },
  {
   "cell_type": "code",
   "execution_count": 18,
   "id": "de327da0",
   "metadata": {},
   "outputs": [],
   "source": [
    "slice_copy[:] = 200"
   ]
  },
  {
   "cell_type": "code",
   "execution_count": 19,
   "id": "2f30e9b1",
   "metadata": {},
   "outputs": [
    {
     "data": {
      "text/plain": [
       "array([200, 200, 200, 200, 200, 200, 200, 200, 200, 200])"
      ]
     },
     "execution_count": 19,
     "metadata": {},
     "output_type": "execute_result"
    }
   ],
   "source": [
    "slice_copy"
   ]
  },
  {
   "cell_type": "code",
   "execution_count": 20,
   "id": "e0647a5c",
   "metadata": {},
   "outputs": [
    {
     "data": {
      "text/plain": [
       "array([  0,   1, 150, 150, 150, 150, 150, 150,   8,   9])"
      ]
     },
     "execution_count": 20,
     "metadata": {},
     "output_type": "execute_result"
    }
   ],
   "source": [
    "arr"
   ]
  },
  {
   "cell_type": "markdown",
   "id": "58b47cad",
   "metadata": {},
   "source": [
    "## Arrays 2d"
   ]
  },
  {
   "cell_type": "code",
   "execution_count": 21,
   "id": "db0681ef",
   "metadata": {},
   "outputs": [],
   "source": [
    "arr2d = ([1,2,3],[4,5,6],[7,8,9,])"
   ]
  },
  {
   "cell_type": "code",
   "execution_count": 22,
   "id": "523fbd47",
   "metadata": {},
   "outputs": [
    {
     "data": {
      "text/plain": [
       "([1, 2, 3], [4, 5, 6], [7, 8, 9])"
      ]
     },
     "execution_count": 22,
     "metadata": {},
     "output_type": "execute_result"
    }
   ],
   "source": [
    "arr2d"
   ]
  },
  {
   "cell_type": "code",
   "execution_count": 23,
   "id": "65d087b7",
   "metadata": {},
   "outputs": [
    {
     "data": {
      "text/plain": [
       "[1, 2, 3]"
      ]
     },
     "execution_count": 23,
     "metadata": {},
     "output_type": "execute_result"
    }
   ],
   "source": [
    "arr2d[0]"
   ]
  },
  {
   "cell_type": "code",
   "execution_count": 25,
   "id": "a85e7cad",
   "metadata": {},
   "outputs": [
    {
     "data": {
      "text/plain": [
       "3"
      ]
     },
     "execution_count": 25,
     "metadata": {},
     "output_type": "execute_result"
    }
   ],
   "source": [
    "arr2d[0][2]"
   ]
  },
  {
   "cell_type": "code",
   "execution_count": 26,
   "id": "c55e192a",
   "metadata": {},
   "outputs": [],
   "source": [
    "arr2d = np.array(([1,2,3],[4,5,6],[7,8,9,]))"
   ]
  },
  {
   "cell_type": "code",
   "execution_count": 27,
   "id": "d455d4b6",
   "metadata": {},
   "outputs": [
    {
     "data": {
      "text/plain": [
       "array([[1, 2, 3],\n",
       "       [4, 5, 6],\n",
       "       [7, 8, 9]])"
      ]
     },
     "execution_count": 27,
     "metadata": {},
     "output_type": "execute_result"
    }
   ],
   "source": [
    "arr2d"
   ]
  },
  {
   "cell_type": "code",
   "execution_count": 28,
   "id": "f65049cf",
   "metadata": {},
   "outputs": [
    {
     "data": {
      "text/plain": [
       "array([[1, 2, 3],\n",
       "       [4, 5, 6]])"
      ]
     },
     "execution_count": 28,
     "metadata": {},
     "output_type": "execute_result"
    }
   ],
   "source": [
    "arr2d[:2,0:]"
   ]
  },
  {
   "cell_type": "code",
   "execution_count": 29,
   "id": "bbff548c",
   "metadata": {},
   "outputs": [
    {
     "data": {
      "text/plain": [
       "array([[1, 2, 3],\n",
       "       [4, 5, 6]])"
      ]
     },
     "execution_count": 29,
     "metadata": {},
     "output_type": "execute_result"
    }
   ],
   "source": [
    "arr2d[:2]"
   ]
  },
  {
   "cell_type": "code",
   "execution_count": 30,
   "id": "178d7f25",
   "metadata": {},
   "outputs": [
    {
     "data": {
      "text/plain": [
       "array([[1],\n",
       "       [4]])"
      ]
     },
     "execution_count": 30,
     "metadata": {},
     "output_type": "execute_result"
    }
   ],
   "source": [
    "arr2d[:2,0:1]"
   ]
  },
  {
   "cell_type": "code",
   "execution_count": 31,
   "id": "8486c42d",
   "metadata": {},
   "outputs": [
    {
     "data": {
      "text/plain": [
       "array([[False, False,  True],\n",
       "       [ True,  True,  True],\n",
       "       [ True,  True,  True]])"
      ]
     },
     "execution_count": 31,
     "metadata": {},
     "output_type": "execute_result"
    }
   ],
   "source": [
    "arr2d > 2"
   ]
  },
  {
   "cell_type": "code",
   "execution_count": 32,
   "id": "68861753",
   "metadata": {},
   "outputs": [],
   "source": [
    "bool = arr2d > 2"
   ]
  },
  {
   "cell_type": "code",
   "execution_count": 33,
   "id": "c7fd6c21",
   "metadata": {},
   "outputs": [
    {
     "data": {
      "text/plain": [
       "array([[False, False,  True],\n",
       "       [ True,  True,  True],\n",
       "       [ True,  True,  True]])"
      ]
     },
     "execution_count": 33,
     "metadata": {},
     "output_type": "execute_result"
    }
   ],
   "source": [
    "bool"
   ]
  },
  {
   "cell_type": "code",
   "execution_count": 37,
   "id": "847c05ce",
   "metadata": {},
   "outputs": [
    {
     "data": {
      "text/plain": [
       "array([3, 4, 5, 6, 7, 8, 9])"
      ]
     },
     "execution_count": 37,
     "metadata": {},
     "output_type": "execute_result"
    }
   ],
   "source": [
    "arr2d[bool]"
   ]
  },
  {
   "cell_type": "code",
   "execution_count": 39,
   "id": "94a0844c",
   "metadata": {},
   "outputs": [],
   "source": [
    "array =  np.linspace(0,50,20)"
   ]
  },
  {
   "cell_type": "code",
   "execution_count": 40,
   "id": "45de68f0",
   "metadata": {},
   "outputs": [
    {
     "data": {
      "text/plain": [
       "array([ 0.        ,  2.63157895,  5.26315789,  7.89473684, 10.52631579,\n",
       "       13.15789474, 15.78947368, 18.42105263, 21.05263158, 23.68421053,\n",
       "       26.31578947, 28.94736842, 31.57894737, 34.21052632, 36.84210526,\n",
       "       39.47368421, 42.10526316, 44.73684211, 47.36842105, 50.        ])"
      ]
     },
     "execution_count": 40,
     "metadata": {},
     "output_type": "execute_result"
    }
   ],
   "source": [
    "array"
   ]
  },
  {
   "cell_type": "code",
   "execution_count": 41,
   "id": "5943724d",
   "metadata": {},
   "outputs": [],
   "source": [
    "array = array.reshape(5,4)"
   ]
  },
  {
   "cell_type": "code",
   "execution_count": 42,
   "id": "6e069f4f",
   "metadata": {},
   "outputs": [
    {
     "data": {
      "text/plain": [
       "array([[ 0.        ,  2.63157895,  5.26315789,  7.89473684],\n",
       "       [10.52631579, 13.15789474, 15.78947368, 18.42105263],\n",
       "       [21.05263158, 23.68421053, 26.31578947, 28.94736842],\n",
       "       [31.57894737, 34.21052632, 36.84210526, 39.47368421],\n",
       "       [42.10526316, 44.73684211, 47.36842105, 50.        ]])"
      ]
     },
     "execution_count": 42,
     "metadata": {},
     "output_type": "execute_result"
    }
   ],
   "source": [
    "array"
   ]
  },
  {
   "cell_type": "code",
   "execution_count": 43,
   "id": "c41660e8",
   "metadata": {},
   "outputs": [
    {
     "data": {
      "text/plain": [
       "array([15.78947368, 26.31578947])"
      ]
     },
     "execution_count": 43,
     "metadata": {},
     "output_type": "execute_result"
    }
   ],
   "source": [
    "array[1:3, 2]"
   ]
  }
 ],
 "metadata": {
  "kernelspec": {
   "display_name": "Python 3 (ipykernel)",
   "language": "python",
   "name": "python3"
  },
  "language_info": {
   "codemirror_mode": {
    "name": "ipython",
    "version": 3
   },
   "file_extension": ".py",
   "mimetype": "text/x-python",
   "name": "python",
   "nbconvert_exporter": "python",
   "pygments_lexer": "ipython3",
   "version": "3.9.13"
  }
 },
 "nbformat": 4,
 "nbformat_minor": 5
}
